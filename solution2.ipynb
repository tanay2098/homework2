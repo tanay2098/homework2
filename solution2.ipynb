{
 "metadata": {
  "language_info": {
   "codemirror_mode": {
    "name": "ipython",
    "version": 3
   },
   "file_extension": ".py",
   "mimetype": "text/x-python",
   "name": "python",
   "nbconvert_exporter": "python",
   "pygments_lexer": "ipython3",
   "version": "3.7.4-final"
  },
  "orig_nbformat": 2,
  "kernelspec": {
   "name": "python_defaultSpec_1600225304968",
   "display_name": "Python 3.7.4 64-bit ('Anaconda': conda)"
  }
 },
 "nbformat": 4,
 "nbformat_minor": 2,
 "cells": [
  {
   "cell_type": "markdown",
   "metadata": {},
   "source": [
    "# Solutions"
   ]
  },
  {
   "cell_type": "markdown",
   "metadata": {},
   "source": [
    "## Solution 1"
   ]
  },
  {
   "cell_type": "code",
   "execution_count": 9,
   "metadata": {
    "tags": []
   },
   "outputs": [
    {
     "output_type": "stream",
     "name": "stdout",
     "text": "\n              Number              Square                Cube\n                   0                   0                   0\n                   1                   1                   1\n                   2                   4                   8\n                   3                   9                  27\n                   4                  16                  64\n                   5                  25                 125\n"
    }
   ],
   "source": [
    "#Printing the numbers,squares and the cubes in tabular form\n",
    "num='Number'\n",
    "sqr='Square'\n",
    "cub='Cube'\n",
    "\n",
    "num1=0\n",
    "num2=1\n",
    "num3=2\n",
    "num4=3\n",
    "num5=4\n",
    "num6=5\n",
    "\n",
    "sqr1=num1**2\n",
    "sqr2=num2**2\n",
    "sqr3=num3**2\n",
    "sqr4=num4**2\n",
    "sqr5=num5**2\n",
    "sqr6=num6**2\n",
    "\n",
    "cube1=num1**3\n",
    "cube2=num2**3\n",
    "cube3=num3**3\n",
    "cube4=num4**3\n",
    "cube5=num5**3\n",
    "cube6=num6**3\n",
    "\n",
    "print(f'\\n{num:>20}{sqr:>20}{cub:>20}\\n{num1:>20}{sqr1:>20}{cube1:>20}\\n{num2:>20}{sqr2:>20}{cube2:>20}\\n{num3:>20}{sqr3:>20}{cube3:>20}\\n{num4:>20}{sqr4:>20}{cube4:>20}\\n{num5:>20}{sqr5:>20}{cube5:>20}\\n{num6:>20}{sqr6:>20}{cube6:>20}')\n",
    "\n",
    "\n"
   ]
  },
  {
   "cell_type": "markdown",
   "metadata": {},
   "source": [
    "## Solution 2"
   ]
  },
  {
   "cell_type": "code",
   "execution_count": 2,
   "metadata": {
    "tags": []
   },
   "outputs": [
    {
     "output_type": "stream",
     "name": "stdout",
     "text": "Following are the Fahrenhit Values: \n -40.0 \n 32.0 \n 104.0 \n 212.0\n"
    }
   ],
   "source": [
    "#Converting to Fahrenhit from Celcius\n",
    "\n",
    "temp1=(9/5)*(-40)+32\n",
    "temp2=(9/5)*(0)+32\n",
    "temp3=(9/5)*(40)+32\n",
    "temp4=(9/5)*(100)+32\n",
    "\n",
    "print('Following are the Fahrenhit Values:',\n",
    "'\\n',temp1,'\\n',temp2,'\\n',temp3,'\\n',temp4)"
   ]
  },
  {
   "source": [
    "## Solution 3"
   ],
   "cell_type": "markdown",
   "metadata": {}
  },
  {
   "cell_type": "code",
   "execution_count": 10,
   "metadata": {
    "tags": []
   },
   "outputs": [
    {
     "output_type": "stream",
     "name": "stdout",
     "text": "The sum is: 7,000\nThe average is : 2,333.33\n"
    }
   ],
   "source": [
    "#Displaying Sum and Average of three numbers.\n",
    "int1=int(input('Enter the first integer: '))\n",
    "int2=int(input('Enter the second integer: '))\n",
    "int3=int(input('Enter the third integer: '))\n",
    "\n",
    "total=int1+int2+int3\n",
    "average=total/3\n",
    "\n",
    "print(f'The sum is: {total:,d}')\n",
    "print(f'The average is : {average:,.2f}')"
   ]
  }
 ]
}