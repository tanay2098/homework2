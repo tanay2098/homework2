{
 "metadata": {
  "language_info": {
   "codemirror_mode": {
    "name": "ipython",
    "version": 3
   },
   "file_extension": ".py",
   "mimetype": "text/x-python",
   "name": "python",
   "nbconvert_exporter": "python",
   "pygments_lexer": "ipython3",
   "version": "3.7.4-final"
  },
  "orig_nbformat": 2,
  "kernelspec": {
   "name": "python_defaultSpec_1600060159639",
   "display_name": "Python 3.7.4 64-bit ('Anaconda': conda)"
  }
 },
 "nbformat": 4,
 "nbformat_minor": 2,
 "cells": [
  {
   "cell_type": "markdown",
   "metadata": {},
   "source": [
    "# Solutions"
   ]
  },
  {
   "cell_type": "markdown",
   "metadata": {},
   "source": [
    "## Solution 1"
   ]
  },
  {
   "cell_type": "code",
   "execution_count": 15,
   "metadata": {
    "tags": []
   },
   "outputs": [
    {
     "output_type": "stream",
     "name": "stdout",
     "text": "Number\tSquare\tCube\n     0\t     0\t     0\n     1\t     1\t     1\n     2\t     4\t     8\n     3\t     9\t    27\n     4\t    16\t    64\n     5\t    25\t   125\n"
    }
   ],
   "source": [
    "num1=0\n",
    "num2=1\n",
    "num3=2\n",
    "num4=3\n",
    "num5=4\n",
    "num6=5\n",
    "\n",
    "sqr1=num1**2\n",
    "sqr2=num2**2\n",
    "sqr3=num3**2\n",
    "sqr4=num4**2\n",
    "sqr5=num5**2\n",
    "sqr6=num6**2\n",
    "\n",
    "cube1=num1**3\n",
    "cube2=num2**3\n",
    "cube3=num3**3\n",
    "cube4=num4**3\n",
    "cube5=num5**3\n",
    "cube6=num6**3\n",
    "\n",
    "print(f'Number\\tSquare\\tCube\\n{num1:>6}\\t{sqr1:>6}\\t{cube1:>6}\\n{num2:>6}\\t{sqr2:>6}\\t{cube2:>6}\\n{num3:>6}\\t{sqr3:>6}\\t{cube3:>6}\\n{num4:>6}\\t{sqr4:>6}\\t{cube4:>6}\\n{num5:>6}\\t{sqr5:>6}\\t{cube5:>6}\\n{num6:>6}\\t{sqr6:>6}\\t{cube6:>6}')\n",
    "\n",
    "\n"
   ]
  },
  {
   "cell_type": "markdown",
   "metadata": {},
   "source": [
    "## Solution 2"
   ]
  },
  {
   "cell_type": "code",
   "execution_count": 7,
   "metadata": {
    "tags": []
   },
   "outputs": [
    {
     "output_type": "stream",
     "name": "stdout",
     "text": "Following are the Farenhit Values: \n -40.0 \n 32.0 \n 104.0 \n 212.0\n"
    }
   ],
   "source": [
    "#Converting to Farenhit from Celcius\n",
    "\n",
    "temp1=(9/5)*(-40)+32\n",
    "temp2=(9/5)*(0)+32\n",
    "temp3=(9/5)*(40)+32\n",
    "temp4=(9/5)*(100)+32\n",
    "\n",
    "print('Following are the Farenhit Values:',\n",
    "'\\n',temp1,'\\n',temp2,'\\n',temp3,'\\n',temp4)"
   ]
  },
  {
   "cell_type": "code",
   "execution_count": 10,
   "metadata": {
    "tags": []
   },
   "outputs": [
    {
     "output_type": "stream",
     "name": "stdout",
     "text": "The sum is: 7,000\nThe average is : 2,333.33\n"
    }
   ],
   "source": [
    "int1=int(input('Enter the first integer: '))\n",
    "int2=int(input('Enter the second integer: '))\n",
    "int3=int(input('Enter the third integer: '))\n",
    "\n",
    "total=int1+int2+int3\n",
    "average=total/3\n",
    "\n",
    "print(f'The sum is: {total:,d}')\n",
    "print(f'The average is : {average:,.2f}')"
   ]
  }
 ]
}